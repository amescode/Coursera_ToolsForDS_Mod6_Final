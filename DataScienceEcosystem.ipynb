{
 "cells": [
  {
   "cell_type": "markdown",
   "id": "4a6cff9f-1eba-40fa-88d5-4bdeb157d2e1",
   "metadata": {},
   "source": [
    "# Data Science Tools and Ecosystem"
   ]
  },
  {
   "cell_type": "markdown",
   "id": "17ddf5a1-56a9-4030-9891-9ee793bfff66",
   "metadata": {},
   "source": [
    "In this notebook, Data Science Tools and Ecosystem are summarized."
   ]
  },
  {
   "cell_type": "markdown",
   "id": "48220725-a3e9-4537-93d4-d326c0b15401",
   "metadata": {},
   "source": [
    "## Author\n",
    "Michael Ames"
   ]
  },
  {
   "cell_type": "markdown",
   "id": "35b7caba-83b3-4a79-a29e-9e4db1c14497",
   "metadata": {},
   "source": [
    "**Objectives**\n",
    "* List popular languages used in Data Science\n",
    "* List popular libraries used in Data Science\n",
    "* List popular tools used in Data Science\n",
    "* Practice simple Python math expressions using Jupyter Lab"
   ]
  },
  {
   "cell_type": "markdown",
   "id": "4324aba1-129b-44fb-89bf-51e1ba6d4c24",
   "metadata": {},
   "source": [
    "Some of the popular languages that Data Scientists use are:\n",
    "1. Python\n",
    "2. R\n",
    "3. SQL\n",
    "4. Julia"
   ]
  },
  {
   "cell_type": "markdown",
   "id": "d8ececeb-a9f3-4ee5-9f26-35a8a41a287f",
   "metadata": {},
   "source": [
    "Some of the commonly used python libraries used by Data Scientists include:\n",
    "1. Numpy: Working with numbers and arrays\n",
    "2. Pandas: Work with data in dataframe format\n",
    "3. Matplotlib: Basic visualizations\n",
    "4. Seaborn: More complex statistical visualizations"
   ]
  },
  {
   "cell_type": "markdown",
   "id": "08df4f7e-85d9-4948-8cae-cf2b01910e09",
   "metadata": {},
   "source": [
    "|Data Science Tools|\n",
    "|---|\n",
    "|Jupyter Lab|\n",
    "|Visual Studio Code|\n",
    "|R Studio|"
   ]
  },
  {
   "cell_type": "markdown",
   "id": "e34b1ab5-89a5-4659-a779-51c0a5d56466",
   "metadata": {},
   "source": [
    "### Below are a few examples of evaluating arithmetic expressions in Python."
   ]
  },
  {
   "cell_type": "code",
   "execution_count": 1,
   "id": "6f81c21b-7db2-4f42-8ad1-ac9601dc1bb9",
   "metadata": {},
   "outputs": [
    {
     "data": {
      "text/plain": [
       "17"
      ]
     },
     "execution_count": 1,
     "metadata": {},
     "output_type": "execute_result"
    }
   ],
   "source": [
    "# This a simple arithmetic expression to mutiply then add integers\n",
    "(3*4)+5"
   ]
  },
  {
   "cell_type": "code",
   "execution_count": 2,
   "id": "6ac88f78-7999-40e4-9b2a-0f9775cd0a6c",
   "metadata": {},
   "outputs": [
    {
     "data": {
      "text/plain": [
       "3.3333333333333335"
      ]
     },
     "execution_count": 2,
     "metadata": {},
     "output_type": "execute_result"
    }
   ],
   "source": [
    "# This will convert 200 minutes to hours by diving by 60\n",
    "200/60"
   ]
  },
  {
   "cell_type": "code",
   "execution_count": null,
   "id": "06ccc589-9da0-4c20-93c4-ad01da19a2cf",
   "metadata": {},
   "outputs": [],
   "source": []
  }
 ],
 "metadata": {
  "kernelspec": {
   "display_name": "Python 3 (ipykernel)",
   "language": "python",
   "name": "python3"
  },
  "language_info": {
   "codemirror_mode": {
    "name": "ipython",
    "version": 3
   },
   "file_extension": ".py",
   "mimetype": "text/x-python",
   "name": "python",
   "nbconvert_exporter": "python",
   "pygments_lexer": "ipython3",
   "version": "3.13.7"
  }
 },
 "nbformat": 4,
 "nbformat_minor": 5
}
